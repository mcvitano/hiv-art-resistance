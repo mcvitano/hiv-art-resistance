{
 "cells": [
  {
   "cell_type": "code",
   "execution_count": 1,
   "metadata": {},
   "outputs": [],
   "source": [
    "from pathlib import Path\n",
    "import pandas as pd\n",
    "\n",
    "data_path = Path('c:\\\\Users\\\\mcvitano01\\\\OneDrive - JPS Health Network\\\\registries\\\\hiv-art-resistance\\\\data')\n",
    "monogram_path = data_path.joinpath('monogram')\n",
    "hivdb_path = data_path.joinpath('stanford_hivdb')\n",
    "\n",
    "# This is a switch\n",
    "#   --> Parsing PDFs is a lengthy, compute-intensive process\n",
    "#   --> In contrast, downstream functions that take {df} as input complete in < 60 seconds\n",
    "try:\n",
    "    df = pd.read_csv(monogram_path.joinpath('genotypic-tests-2021-12-31.tsv'), \n",
    "                     dtype={'PAT_MRN_ID': str}, sep='\\t')\n",
    "\n",
    "    rerun_pdf_parsing = False\n",
    "except:\n",
    "    rerun_pdf_parsing = True\n",
    "    pass"
   ]
  },
  {
   "cell_type": "markdown",
   "metadata": {},
   "source": [
    "## Step 1\n",
    "### Manually download test result PDFs from Monogram site"
   ]
  },
  {
   "cell_type": "markdown",
   "metadata": {},
   "source": [
    "## Step 2(a)\n",
    "### Parse PDFs into dataframes\n",
    "* *\\> 15 minutes to run*"
   ]
  },
  {
   "cell_type": "code",
   "execution_count": 2,
   "metadata": {},
   "outputs": [],
   "source": [
    "from src.utils import parse_genotypic_reports\n",
    "\n",
    "if rerun_pdf_parsing:\n",
    "    # Geneseq\n",
    "    geneseq = parse_genotypic_reports(\n",
    "        monogram_path.joinpath('geneseq'), test_type='geneseq')\n",
    "\n",
    "    geneseq.to_csv(monogram_path.joinpath(\n",
    "        'geneseq/geneseq-2021-12-31.tsv'), index=False, sep='\\t')\n",
    "\n",
    "    # Genosure-MG\n",
    "    genosure_mg = parse_genotypic_reports(\n",
    "        monogram_path.joinpath('genosure-mg'), test_type='genosure-mg')\n",
    "\n",
    "    genosure_mg.to_csv(monogram_path.joinpath(\n",
    "        'genosure-mg/genosure-mg-2021-12-31.tsv'), index=False, sep='\\t')\n",
    "\n",
    "    # Genosure-PRIme\n",
    "    genosure_prime = parse_genotypic_reports(\n",
    "        monogram_path.joinpath('genosure-prime'), test_type='genosure-prime')\n",
    "\n",
    "    genosure_prime.to_csv(monogram_path.joinpath(\n",
    "        'genosure-prime/genosure-prime-2021-12-31.tsv'), index=False, sep='\\t')\n",
    "\n",
    "    # Genosure-Archive\n",
    "    genosure_archive = parse_genotypic_reports(\n",
    "        monogram_path.joinpath('genosure-archive'), test_type='genosure-archive')\n",
    "\n",
    "    genosure_archive.to_csv(monogram_path.joinpath(\n",
    "        'genosure-archive/genosure-archive-2021-12-31.tsv'), index=False, sep='\\t')\n",
    "\n",
    "    # Phenosense-GT\n",
    "    phenosense_gt = parse_genotypic_reports(\n",
    "        monogram_path.joinpath('phenosense-gt'), test_type='phenosense-gt')\n",
    "\n",
    "    phenosense_gt.to_csv(monogram_path.joinpath(\n",
    "        'phenosense-gt/phenosense-gt-2021-12-31.tsv'), index=False, sep='\\t')\n",
    "\n",
    "\n",
    "    # Combine\n",
    "    df = pd.concat([geneseq, genosure_mg, genosure_prime, genosure_archive, phenosense_gt])\n",
    "    df.sort_values(['PAT_MRN_ID', 'COLLECTED_DATE'], inplace=True)\n",
    "    df.reset_index(inplace=True, drop=True)\n",
    "\n",
    "    # Write to disk\n",
    "    df.to_csv(monogram_path.joinpath(\n",
    "        'genotypic-tests-2021-12-31.tsv'), index=False, sep='\\t')"
   ]
  },
  {
   "cell_type": "markdown",
   "metadata": {},
   "source": [
    "## Step 2(b)\n",
    "### Chart review for missing MRNs"
   ]
  },
  {
   "cell_type": "code",
   "execution_count": 3,
   "metadata": {},
   "outputs": [],
   "source": [
    "from src.utils import add_chart_reviewed_mrns\n",
    "\n",
    "if rerun_pdf_parsing:\n",
    "    df = add_chart_reviewed_mrns(df, monogram_path.joinpath('completed-mrn-for-chart-review.csv'))\n",
    "\n",
    "    # Write to disk\n",
    "    df.to_csv(monogram_path.joinpath(\n",
    "        'genotypic-tests-2021-12-31.tsv'), index=False, sep='\\t')"
   ]
  },
  {
   "cell_type": "markdown",
   "metadata": {},
   "source": [
    "## Step 3\n",
    "### Transform lists of mutations into loci-specific position dataframes"
   ]
  },
  {
   "cell_type": "code",
   "execution_count": 5,
   "metadata": {},
   "outputs": [
    {
     "name": "stdout",
     "output_type": "stream",
     "text": [
      "Extracting positions of mutations within the RT_LIST locus.\n",
      "All values of \"None\" must be set to missing to allow \n",
      "     filling mutations forward over time (within patient).\n",
      "\n",
      "Dropped\n",
      "  - 1404 without observed mutations at the RT locus\n",
      "  - 0 incomplete test accessions\n",
      "  - 2 test accessions with no MRN\n",
      "\n",
      "Extracting positions of mutations within the PR_LIST locus.\n",
      "All values of \"None\" must be set to missing to allow \n",
      "     filling mutations forward over time (within patient).\n",
      "\n",
      "Dropped\n",
      "  - 3714 without observed mutations at the PR locus\n",
      "  - 0 incomplete test accessions\n",
      "  - 1 test accessions with no MRN\n",
      "\n",
      "Extracting positions of mutations within the INSTI_LIST locus.\n",
      "All values of \"None\" must be set to missing to allow \n",
      "     filling mutations forward over time (within patient).\n",
      "\n",
      "Dropped\n",
      "  - 5259 without observed mutations at the INSTI locus\n",
      "  - 0 incomplete test accessions\n",
      "  - 0 test accessions with no MRN\n",
      "\n"
     ]
    }
   ],
   "source": [
    "from src.utils import melt_loci_specific_mutations_to_position\n",
    "\n",
    "# Transform lists of mutations at each locus to a loci-specific position dataframe\n",
    "#   with one row per position (in the HIV-1 DNA for that locus)\n",
    "#   rather than one row per test accession (each with a list of mutations)\n",
    "rt_position = melt_loci_specific_mutations_to_position(df, loci='RT')\n",
    "pr_position = melt_loci_specific_mutations_to_position(df, loci='PR')\n",
    "insti_position = melt_loci_specific_mutations_to_position(df, loci='INSTI')"
   ]
  },
  {
   "cell_type": "markdown",
   "metadata": {},
   "source": [
    "## Step 4\n",
    "### Add Stanford HIVdb comments to each position"
   ]
  },
  {
   "cell_type": "code",
   "execution_count": 6,
   "metadata": {},
   "outputs": [],
   "source": [
    "from src.utils import load_hivdb_comments, replicate_comments_over_amino_acids\n",
    "\n",
    "# Add Stanford HIVDB mutation comments to RT position dataframe\n",
    "rt_comments = load_hivdb_comments(hivdb_path, loci='RT')\n",
    "rt_comments = replicate_comments_over_amino_acids(rt_comments)\n",
    "\n",
    "rt_position = rt_position.merge(rt_comments,\n",
    "                                 left_on=['POSITION', 'AA'], \n",
    "                                 right_on=['POSITION', 'AA'], how='left')\n",
    "\n",
    "# Add Stanford HIVDB mutation comments to PR/PI position dataframe\n",
    "pr_comments = load_hivdb_comments(hivdb_path, loci='PI')\n",
    "pr_comments = replicate_comments_over_amino_acids(pr_comments)\n",
    "\n",
    "pr_position = pr_position.merge(pr_comments,\n",
    "                                 left_on=['POSITION', 'AA'], \n",
    "                                 right_on=['POSITION', 'AA'], how='left')\n",
    "\n",
    "# Add Stanford HIVDB mutation comments to INSTI position dataframe\n",
    "insti_comments = load_hivdb_comments(hivdb_path, loci='INSTI')\n",
    "insti_comments = replicate_comments_over_amino_acids(insti_comments)\n",
    "\n",
    "insti_position = insti_position.merge(insti_comments,\n",
    "                                 left_on=['POSITION', 'AA'], \n",
    "                                 right_on=['POSITION', 'AA'], how='left')"
   ]
  },
  {
   "cell_type": "markdown",
   "metadata": {},
   "source": [
    "## Step 5\n",
    "### Score mutations at each position according to Standord HIVdb's \"simple\" rules"
   ]
  },
  {
   "cell_type": "code",
   "execution_count": 7,
   "metadata": {},
   "outputs": [
    {
     "name": "stdout",
     "output_type": "stream",
     "text": [
      "\n",
      "\n",
      "\n"
     ]
    }
   ],
   "source": [
    "from src.utils import load_hivdb_scores, score_positioned_mutations\n",
    "\n",
    "# Load Stanford HIVDB mutation scores for each locus\n",
    "rt_scores = load_hivdb_scores(hivdb_path, loci='RT', rule_type='simple')\n",
    "# rename Tenofovir disoproxil in Stanford (TDF) to match Monogram (TFV)\n",
    "rt_scores = [col.replace('TDF', 'TFV') for col in rt_scores.columns]\n",
    "\n",
    "pr_scores = load_hivdb_scores(hivdb_path, loci='PR', rule_type='simple')\n",
    "insti_scores = load_hivdb_scores(hivdb_path, loci='INSTI', rule_type='simple')\n",
    "\n",
    "# Score each position\n",
    "rt_scored = score_positioned_mutations(rt_position, rt_scores)\n",
    "pr_scored = score_positioned_mutations(pr_position, pr_scores)\n",
    "insti_scored = score_positioned_mutations(insti_position, insti_scores)\n",
    "\n",
    "# Write to disk\n",
    "rt_scored.to_csv(data_path.joinpath('rt-position-scored.tsv'), sep='\\t', index=False)\n",
    "pr_scored.to_csv(data_path.joinpath('pr-position-scored.tsv'), sep='\\t', index=False)\n",
    "insti_scored.to_csv(data_path.joinpath('insti-position-scored.tsv'), sep='\\t', index=False)"
   ]
  },
  {
   "cell_type": "markdown",
   "metadata": {},
   "source": [
    "## Step 6\n",
    "### Rescore complex interactions\n",
    "\n",
    "The estimated level of resistance to a drug is determined by adding up the penalty scores associated with each of the DRMs present in a submitted sequence.  \n",
    "\n",
    "Once the total score is calculated the estimated level of resistance can be calculated as follows:\n",
    "* Susceptible: Total score 0 to 9\n",
    "* Potential low-level resistance: Total score 10 to 14\n",
    "* Low-level resistance: Total score 15 to 29\n",
    "* Intermediate resistance: Total score 30 to 59\n",
    "* High-level resistance: Total score >= 60\n",
    "\n",
    "Interpretation  \n",
    "* \"Susceptible\" indicates no evidence of reduced ARV susceptibility compared with a wild-type virus.\n",
    "* \"Potential low-level resistance\" indicates that the sequence may contain mutations indicating previous ARV exposure or may contain mutation that are associated with drug resistance only when they occur with additional mutations.\n",
    "* \"Low-level resistance\" indicates that there that the virus encoded by the submitted sequence may have reduced in vitro ARV susceptibility or that patients harboring viruses with the submitted mutations may have a suboptimal virological response to treatment with the ARV.\n",
    "* \"Intermediate resistance\" indicates a high likelihood that a drug's activity will be reduced but that the drug will likely retain significant remaining antiviral activity.\n",
    "* \"High-level resistance\" indicates that the predicted level of resistance is similar to those observed in viruses with the highest levels of in vitro drug resistance or that clinical data exist demonstrating that patients infected with viruses having such mutations usually have little or no virological response to treatment with the ARV.\n",
    "\n",
    "Complex Rules  \n",
    "* Some combinations of DRMs receive penalty scores that are **added to the total score** for a drug. For example:\n",
    "    + The RT mutations L74I/V (L74I or L74V) and M184I/V (M184I or M184V) have penalty scores of 30 and 15, respectively for abacavir (ABC). In addition, L74I/V + M184/V has a penalty score of 15 for ABC. Therefore, a sequence with L74V + M184V will have a total penalty score of 60 (30 + 15 + 15) which is translated into high-level ABC resistance.\n",
    "    + The PR mutations M46I/L, I54V, and V82A have penalty scores of 10, 15, and 30 respectively for lopinavir/r (LPV/r). M54A/L/M/S/T/V + V82A/C/F/M/L/S/T/V has a penalty score of 10 for LPV/r. Therefore, a sequence with M46IL + I54V + V82A will have a total penalty score of 65 (10 + 15 + 30 + 10) which is translated into high-level LPV/r resistance.  \n",
    "\n",
    "Multiple Mutations at the Same Position\n",
    "* When there is a mixture of two mutations at the same position, the mutation associated with the **largest penalty is scored**. Therefore, if a mutation associated with a negative penalty score is present in a mixture with the wildtype amino acid at that position, there will be no negative penalty score."
   ]
  },
  {
   "cell_type": "code",
   "execution_count": 9,
   "metadata": {},
   "outputs": [],
   "source": [
    "from src.utils import load_hivdb_scores, calculate_total_resistance\n",
    "\n",
    "rt_interactions = load_hivdb_scores(hivdb_path, loci='RT', rule_type='Complex')\n",
    "# rename Tenofovir disoproxil in Stanford (TDF) to match Monogram (TFV)\n",
    "rt_interactions = [col.replace('TDF', 'TFV') for col in rt_interactions.columns]\n",
    "rt_rescored = calculate_total_resistance(rt_scored, rt_interactions)\n",
    "\n",
    "pr_interactions = load_hivdb_scores(hivdb_path, loci='PR', rule_type='Complex')\n",
    "pr_rescored = calculate_total_resistance(pr_scored, pr_interactions)\n",
    "\n",
    "insti_interactions = load_hivdb_scores(hivdb_path, loci='INSTI', rule_type='Complex')\n",
    "insti_rescored = calculate_total_resistance(insti_scored, insti_interactions)\n",
    "\n",
    "# Combine\n",
    "total_resistance = pd.concat([rt_rescored,\n",
    "                              pr_rescored,\n",
    "                              insti_rescored])\n",
    "\n",
    "total_resistance.sort_values(['PAT_MRN_ID', 'COLLECTED_DATE'], inplace=True)\n",
    "total_resistance.reset_index(inplace=True, drop=True)\n",
    "\n",
    "# Write to disk\n",
    "total_resistance.to_csv(\n",
    "    data_path.joinpath('total-resistance-2021-12-31.tsv'), sep='\\t', index=False)"
   ]
  },
  {
   "cell_type": "code",
   "execution_count": 15,
   "metadata": {},
   "outputs": [
    {
     "data": {
      "text/plain": [
       "ARV    RESISTANCE_CATEGORY\n",
       "3TC    High                    436\n",
       "       Intermediate             11\n",
       "       Low                       5\n",
       "       Potential low-level      38\n",
       "       Suceptible             2511\n",
       "ABC    High                    108\n",
       "       Intermediate             88\n",
       "       Low                     381\n",
       "       Potential low-level      19\n",
       "       Suceptible             2450\n",
       "ATV/R  High                     28\n",
       "       Intermediate             17\n",
       "       Low                      38\n",
       "       Potential low-level      41\n",
       "       Suceptible             1672\n",
       "AZT    High                    111\n",
       "       Intermediate             88\n",
       "       Low                      59\n",
       "       Potential low-level     126\n",
       "       Suceptible             2365\n",
       "BIC    High                      3\n",
       "       Intermediate              8\n",
       "       Low                       3\n",
       "       Potential low-level      19\n",
       "       Suceptible              697\n",
       "CAB    High                      9\n",
       "       Intermediate              4\n",
       "       Low                      12\n",
       "       Potential low-level      13\n",
       "       Suceptible              692\n",
       "D4T    High                    105\n",
       "       Intermediate            120\n",
       "       Low                     172\n",
       "       Potential low-level      91\n",
       "       Suceptible             2342\n",
       "DDI    High                    172\n",
       "       Intermediate             95\n",
       "       Low                     164\n",
       "       Potential low-level     327\n",
       "       Suceptible             2325\n",
       "DOR    High                    120\n",
       "       Intermediate            211\n",
       "       Low                     108\n",
       "       Potential low-level     162\n",
       "       Suceptible             2406\n",
       "DRV/R  High                      7\n",
       "       Intermediate              6\n",
       "       Low                       9\n",
       "       Potential low-level       1\n",
       "       Suceptible             1751\n",
       "Name: PAT_MRN_ID, dtype: int64"
      ]
     },
     "execution_count": 15,
     "metadata": {},
     "output_type": "execute_result"
    }
   ],
   "source": [
    "total_resistance.groupby(['ARV', 'RESISTANCE_CATEGORY'])['PAT_MRN_ID'].nunique().head(50)"
   ]
  }
 ],
 "metadata": {
  "kernelspec": {
   "display_name": "hiv-art-resistance-L9BYQhnH",
   "language": "python",
   "name": "python3"
  },
  "language_info": {
   "codemirror_mode": {
    "name": "ipython",
    "version": 3
   },
   "file_extension": ".py",
   "mimetype": "text/x-python",
   "name": "python",
   "nbconvert_exporter": "python",
   "pygments_lexer": "ipython3",
   "version": "3.10.12"
  }
 },
 "nbformat": 4,
 "nbformat_minor": 2
}
