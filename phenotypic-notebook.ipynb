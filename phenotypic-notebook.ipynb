{
 "cells": [
  {
   "cell_type": "code",
   "execution_count": 1,
   "metadata": {},
   "outputs": [],
   "source": [
    "from pathlib import Path\n",
    "import pandas as pd\n",
    "\n",
    "data_path = Path('c:\\\\Users\\\\mcvitano01\\\\OneDrive - JPS Health Network\\\\registries\\\\hiv-art-resistance\\\\data')\n",
    "monogram_path = data_path.joinpath('monogram')\n",
    "\n",
    "# This is a switch\n",
    "#   --> Parsing PDFs is a lengthy, compute-intensive process\n",
    "#   --> In contrast, downstream functions that take {df} as input complete in < 60 seconds\n",
    "try:\n",
    "    df = pd.read_csv(monogram_path.joinpath('phenotypic-tests-2021-12-31.tsv'), \n",
    "                     dtype={'PAT_MRN_ID': str}, sep='\\t')\n",
    "\n",
    "    rerun_pdf_parsing = False\n",
    "except:\n",
    "    rerun_pdf_parsing = True\n",
    "    pass"
   ]
  },
  {
   "cell_type": "markdown",
   "metadata": {},
   "source": [
    "## Step 1\n",
    "### Manually download test result PDFs from Monogram site"
   ]
  },
  {
   "cell_type": "markdown",
   "metadata": {},
   "source": [
    "## Step 2(a)\n",
    "### Parse PDFs into dataframes\n",
    "* *\\> 15 minutes to run*"
   ]
  },
  {
   "cell_type": "code",
   "execution_count": null,
   "metadata": {},
   "outputs": [],
   "source": [
    "from src.utils import parse_phenotypic_reports\n",
    "\n",
    "if rerun_pdf_parsing:\n",
    "\n",
    "    # Phenosense\n",
    "    phenosense, phenosense_eav = parse_phenotypic_reports(\n",
    "        path_to_zips=monogram_path.joinpath('phenosense'), \n",
    "        test_type='phenosense')\n",
    "\n",
    "    phenosense.to_csv(\n",
    "        monogram_path.joinpath('phenosense/phenosense-2021-12-31.tsv'), \n",
    "        index=False, sep='\\t')\n",
    "\n",
    "    phenosense_eav.to_csv(\n",
    "        monogram_path.joinpath('phenosense/phenosense-eav-2021-12-31.tsv'), \n",
    "        index=False, sep='\\t')\n",
    "\n",
    "    # Phenosense Entry\n",
    "    phenosense_entry, phenosense_entry_eav = parse_phenotypic_reports(\n",
    "        path_to_zips=monogram_path.joinpath('phenosense-entry'), \n",
    "        test_type='phenosense-entry')\n",
    "\n",
    "    phenosense_entry.to_csv(\n",
    "        monogram_path.joinpath('phenosense-entry/phenosense-entry-2021-12-31.tsv'), \n",
    "        index=False, sep='\\t')\n",
    "\n",
    "    phenosense_entry_eav.to_csv(\n",
    "        monogram_path.joinpath('phenosense-entry/phenosense-entry-eav-2021-12-31.tsv'), \n",
    "        index=False, sep='\\t')\n",
    "\n",
    "    # Phenosense-Integrase\n",
    "    phenosense_integrase, phenosense_integrase_eav = parse_phenotypic_reports(\n",
    "        path_to_zips=monogram_path.joinpath('phenosense-integrase'), \n",
    "        test_type='phenosense-integrase')\n",
    "    \n",
    "    phenosense_integrase.to_csv(\n",
    "        monogram_path.joinpath('phenosense-integrase/phenosense-integrase-2021-12-31.tsv'), \n",
    "        index=False, sep='\\t')\n",
    "\n",
    "    phenosense_integrase_eav.to_csv(\n",
    "        monogram_path.joinpath('phenosense-integrase/phenosense-integrase-eav-2021-12-31.tsv'), \n",
    "        index=False, sep='\\t')\n",
    "    \n",
    "    # Phenosense-GT\n",
    "    phenosense_gt, phenosense_gt_eav = parse_phenotypic_reports(\n",
    "        path_to_zips=monogram_path.joinpath('phenosense-gt'), \n",
    "        test_type='phenosense-gt')\n",
    "    \n",
    "    phenosense_gt.to_csv(\n",
    "        monogram_path.joinpath('phenosense-gt/phenosense-gt-2021-12-31.tsv'), \n",
    "        index=False, sep='\\t')\n",
    "\n",
    "    phenosense_gt_eav.to_csv(\n",
    "        monogram_path.joinpath('phenosense-gt/phenosense-gt-eav-2021-12-31.tsv'), \n",
    "        index=False, sep='\\t')"
   ]
  },
  {
   "cell_type": "code",
   "execution_count": null,
   "metadata": {},
   "outputs": [],
   "source": [
    "# Combine\n",
    "df = pd.concat([phenosense, phenosense_entry, phenosense_integrase, phenosense_gt])\n",
    "df.sort_values(['PAT_MRN_ID', 'COLLECTED_DATE'], inplace=True)\n",
    "df.reset_index(inplace=True, drop=True)\n",
    "\n",
    "# Write to disk\n",
    "df.to_csv(monogram_path.joinpath(\n",
    "    'phenotypic-tests-through-2021-12-31.tsv'), index=False, sep='\\t')"
   ]
  },
  {
   "cell_type": "code",
   "execution_count": null,
   "metadata": {},
   "outputs": [],
   "source": [
    "# Combine\n",
    "df_eav = pd.concat([phenosense_eav, phenosense_entry_eav, phenosense_integrase_eav, phenosense_gt_eav])\n",
    "df_eav.sort_values(['PAT_MRN_ID', 'COLLECTED_DATE'], inplace=True)\n",
    "df_eav.reset_index(inplace=True, drop=True)\n",
    "\n",
    "# Write to disk\n",
    "df_eav.to_csv(monogram_path.joinpath(\n",
    "    'phenotypic-eav-through-2021-12-31.tsv'), index=False, sep='\\t')"
   ]
  }
 ],
 "metadata": {
  "kernelspec": {
   "display_name": "hiv-art-resistance-L9BYQhnH",
   "language": "python",
   "name": "python3"
  },
  "language_info": {
   "codemirror_mode": {
    "name": "ipython",
    "version": 3
   },
   "file_extension": ".py",
   "mimetype": "text/x-python",
   "name": "python",
   "nbconvert_exporter": "python",
   "pygments_lexer": "ipython3",
   "version": "3.10.12"
  }
 },
 "nbformat": 4,
 "nbformat_minor": 2
}
