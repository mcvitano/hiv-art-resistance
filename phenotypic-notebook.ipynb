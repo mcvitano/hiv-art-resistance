{
 "cells": [
  {
   "cell_type": "code",
   "execution_count": 1,
   "metadata": {},
   "outputs": [],
   "source": [
    "from pathlib import Path\n",
    "import pandas as pd\n",
    "\n",
    "data_path = Path('c:\\\\Users\\\\mcvitano01\\\\OneDrive - JPS Health Network\\\\registries\\\\hiv-art-resistance\\\\data')\n",
    "monogram_path = data_path.joinpath('monogram')\n",
    "\n",
    "# This is a switch\n",
    "#   --> Parsing PDFs is a lengthy, compute-intensive process\n",
    "#   --> In contrast, downstream functions that take {df} as input complete in < 60 seconds\n",
    "try:\n",
    "    df = pd.read_csv(monogram_path.joinpath('phenotypic-tests-2021-12-31.tsv'), \n",
    "                     dtype={'PAT_MRN_ID': str}, sep='\\t')\n",
    "\n",
    "    rerun_pdf_parsing = False\n",
    "except:\n",
    "    rerun_pdf_parsing = True\n",
    "    pass"
   ]
  },
  {
   "cell_type": "markdown",
   "metadata": {},
   "source": [
    "## Step 1\n",
    "### Manually download test result PDFs from Monogram site"
   ]
  },
  {
   "cell_type": "markdown",
   "metadata": {},
   "source": [
    "## Step 2(a)\n",
    "### Parse PDFs into dataframes\n",
    "* *\\> 15 minutes to run*"
   ]
  },
  {
   "cell_type": "code",
   "execution_count": 2,
   "metadata": {},
   "outputs": [
    {
     "data": {
      "text/html": [
       "<div><span class=\"Text-label\" style=\"display:inline-block; overflow:hidden; white-space:nowrap; text-overflow:ellipsis; min-width:15ex; max-width:15ex; vertical-align:middle; text-align:right\">Records</span>\n",
       "<progress style=\"width:45ex\" max=\"320\" value=\"0\" class=\"Progress-main\"/></progress>\n",
       "<span class=\"Progress-label\"><strong>0%</strong></span>\n",
       "<span class=\"Iteration-label\">0/320</span>\n",
       "<span class=\"Time-label\">[0<0, 0.00s/it]</span></div>"
      ],
      "text/plain": [
       "\u001b[2K\r        Records [#############################################] 0/320 [0<0, 0.00s/it]"
      ]
     },
     "metadata": {},
     "output_type": "display_data"
    },
    {
     "ename": "AttributeError",
     "evalue": "'NoneType' object has no attribute 'group'",
     "output_type": "error",
     "traceback": [
      "\u001b[1;31m---------------------------------------------------------------------------\u001b[0m",
      "\u001b[1;31mAttributeError\u001b[0m                            Traceback (most recent call last)",
      "Cell \u001b[1;32mIn[2], line 6\u001b[0m\n\u001b[0;32m      1\u001b[0m \u001b[38;5;28;01mfrom\u001b[39;00m \u001b[38;5;21;01msrc\u001b[39;00m\u001b[38;5;21;01m.\u001b[39;00m\u001b[38;5;21;01mutils\u001b[39;00m \u001b[38;5;28;01mimport\u001b[39;00m parse_phenotypic_reports\n\u001b[0;32m      3\u001b[0m \u001b[38;5;28;01mif\u001b[39;00m rerun_pdf_parsing:\n\u001b[0;32m      4\u001b[0m \n\u001b[0;32m      5\u001b[0m     \u001b[38;5;66;03m# Phenosense\u001b[39;00m\n\u001b[1;32m----> 6\u001b[0m     phenosense, phenosense_eav \u001b[38;5;241m=\u001b[39m \u001b[43mparse_phenotypic_reports\u001b[49m\u001b[43m(\u001b[49m\n\u001b[0;32m      7\u001b[0m \u001b[43m        \u001b[49m\u001b[43mpath_to_zips\u001b[49m\u001b[38;5;241;43m=\u001b[39;49m\u001b[43mmonogram_path\u001b[49m\u001b[38;5;241;43m.\u001b[39;49m\u001b[43mjoinpath\u001b[49m\u001b[43m(\u001b[49m\u001b[38;5;124;43m'\u001b[39;49m\u001b[38;5;124;43mphenosense\u001b[39;49m\u001b[38;5;124;43m'\u001b[39;49m\u001b[43m)\u001b[49m\u001b[43m,\u001b[49m\u001b[43m \u001b[49m\n\u001b[0;32m      8\u001b[0m \u001b[43m        \u001b[49m\u001b[43mtest_type\u001b[49m\u001b[38;5;241;43m=\u001b[39;49m\u001b[38;5;124;43m'\u001b[39;49m\u001b[38;5;124;43mphenosense\u001b[39;49m\u001b[38;5;124;43m'\u001b[39;49m\u001b[43m)\u001b[49m\n\u001b[0;32m     10\u001b[0m     phenosense\u001b[38;5;241m.\u001b[39mto_csv(\n\u001b[0;32m     11\u001b[0m         monogram_path\u001b[38;5;241m.\u001b[39mjoinpath(\u001b[38;5;124m'\u001b[39m\u001b[38;5;124mphenosense/phenosense-2021-12-31.tsv\u001b[39m\u001b[38;5;124m'\u001b[39m), \n\u001b[0;32m     12\u001b[0m         index\u001b[38;5;241m=\u001b[39m\u001b[38;5;28;01mFalse\u001b[39;00m, sep\u001b[38;5;241m=\u001b[39m\u001b[38;5;124m'\u001b[39m\u001b[38;5;130;01m\\t\u001b[39;00m\u001b[38;5;124m'\u001b[39m)\n\u001b[0;32m     14\u001b[0m     phenosense_eav\u001b[38;5;241m.\u001b[39mto_csv(\n\u001b[0;32m     15\u001b[0m         monogram_path\u001b[38;5;241m.\u001b[39mjoinpath(\u001b[38;5;124m'\u001b[39m\u001b[38;5;124mphenosense/phenosense-eav-2021-12-31.tsv\u001b[39m\u001b[38;5;124m'\u001b[39m), \n\u001b[0;32m     16\u001b[0m         index\u001b[38;5;241m=\u001b[39m\u001b[38;5;28;01mFalse\u001b[39;00m, sep\u001b[38;5;241m=\u001b[39m\u001b[38;5;124m'\u001b[39m\u001b[38;5;130;01m\\t\u001b[39;00m\u001b[38;5;124m'\u001b[39m)\n",
      "File \u001b[1;32mc:\\Users\\mcvitano01\\OneDrive - JPS Health Network\\registries\\hiv-art-resistance\\src\\utils.py:1679\u001b[0m, in \u001b[0;36mparse_phenotypic_reports\u001b[1;34m(path_to_zips, test_type)\u001b[0m\n\u001b[0;32m   1677\u001b[0m \u001b[38;5;28;01mif\u001b[39;00m \u001b[38;5;129;01mnot\u001b[39;00m test_type\u001b[38;5;241m.\u001b[39mupper() \u001b[38;5;241m==\u001b[39m \u001b[38;5;124m'\u001b[39m\u001b[38;5;124mPHENOSENSE-ENTRY\u001b[39m\u001b[38;5;124m'\u001b[39m:\n\u001b[0;32m   1678\u001b[0m     \u001b[38;5;28;01mtry\u001b[39;00m:\n\u001b[1;32m-> 1679\u001b[0m         ic50_dict \u001b[38;5;241m=\u001b[39m \u001b[43m_extract_ic50_as_dict\u001b[49m\u001b[43m(\u001b[49m\u001b[43msample_text\u001b[49m\u001b[38;5;241;43m=\u001b[39;49m\u001b[43msample_text\u001b[49m\u001b[43m)\u001b[49m\n\u001b[0;32m   1681\u001b[0m         \u001b[38;5;66;03m# Insert IC50 into EAV dataframe\u001b[39;00m\n\u001b[0;32m   1682\u001b[0m         \u001b[38;5;28;01mfor\u001b[39;00m arv, ic50 \u001b[38;5;129;01min\u001b[39;00m ic50_dict\u001b[38;5;241m.\u001b[39mitems():\n",
      "File \u001b[1;32mc:\\Users\\mcvitano01\\OneDrive - JPS Health Network\\registries\\hiv-art-resistance\\src\\utils.py:1550\u001b[0m, in \u001b[0;36mparse_phenotypic_reports.<locals>._extract_ic50_as_dict\u001b[1;34m(sample_text)\u001b[0m\n\u001b[0;32m   1547\u001b[0m drugs \u001b[38;5;241m=\u001b[39m re\u001b[38;5;241m.\u001b[39msearch(\u001b[38;5;124m'\u001b[39m\u001b[38;5;124m(?<=Patient-specific)[ ]*Results[ ]*Drugs[ ]*([A-Za-z\u001b[39m\u001b[38;5;124m\\\u001b[39m\u001b[38;5;124md\u001b[39m\u001b[38;5;124m\\\u001b[39m\u001b[38;5;124ms]+?)(?=IC50)\u001b[39m\u001b[38;5;124m'\u001b[39m, sample_text)\n\u001b[0;32m   1548\u001b[0m ic50 \u001b[38;5;241m=\u001b[39m re\u001b[38;5;241m.\u001b[39msearch(\u001b[38;5;124m'\u001b[39m\u001b[38;5;124m(?<=IC50)[\u001b[39m\u001b[38;5;124m\\\u001b[39m\u001b[38;5;124mD]*?([\u001b[39m\u001b[38;5;124m\\\u001b[39m\u001b[38;5;124md\u001b[39m\u001b[38;5;124m\\\u001b[39m\u001b[38;5;124ms.>MAX]*)(?=Fold)\u001b[39m\u001b[38;5;124m'\u001b[39m, sample_text)\n\u001b[1;32m-> 1550\u001b[0m ic50_dict \u001b[38;5;241m=\u001b[39m \u001b[38;5;28mdict\u001b[39m(\u001b[38;5;28mzip\u001b[39m(\u001b[43mdrugs\u001b[49m\u001b[38;5;241;43m.\u001b[39;49m\u001b[43mgroup\u001b[49m(\u001b[38;5;241m1\u001b[39m)\u001b[38;5;241m.\u001b[39mstrip()\u001b[38;5;241m.\u001b[39msplit(\u001b[38;5;124m'\u001b[39m\u001b[38;5;124m \u001b[39m\u001b[38;5;124m'\u001b[39m),\n\u001b[0;32m   1551\u001b[0m                     ic50\u001b[38;5;241m.\u001b[39mgroup(\u001b[38;5;241m1\u001b[39m)\u001b[38;5;241m.\u001b[39mstrip()\u001b[38;5;241m.\u001b[39msplit(\u001b[38;5;124m'\u001b[39m\u001b[38;5;124m \u001b[39m\u001b[38;5;124m'\u001b[39m)))\n\u001b[0;32m   1553\u001b[0m \u001b[38;5;28;01mreturn\u001b[39;00m ic50_dict\n",
      "\u001b[1;31mAttributeError\u001b[0m: 'NoneType' object has no attribute 'group'"
     ]
    }
   ],
   "source": [
    "from src.utils import parse_phenotypic_reports\n",
    "\n",
    "if rerun_pdf_parsing:\n",
    "\n",
    "    # Phenosense\n",
    "    phenosense, phenosense_eav = parse_phenotypic_reports(\n",
    "        path_to_zips=monogram_path.joinpath('phenosense'), \n",
    "        test_type='phenosense')\n",
    "\n",
    "    phenosense.to_csv(\n",
    "        monogram_path.joinpath('phenosense/phenosense-2021-12-31.tsv'), \n",
    "        index=False, sep='\\t')\n",
    "\n",
    "    phenosense_eav.to_csv(\n",
    "        monogram_path.joinpath('phenosense/phenosense-eav-2021-12-31.tsv'), \n",
    "        index=False, sep='\\t')\n",
    "\n",
    "    # Phenosense Entry\n",
    "    phenosense_entry, phenosense_entry_eav = parse_phenotypic_reports(\n",
    "        path_to_zips=monogram_path.joinpath('phenosense-entry'), \n",
    "        test_type='phenosense-entry')\n",
    "\n",
    "    phenosense_entry.to_csv(\n",
    "        monogram_path.joinpath('phenosense-entry/phenosense-entry-2021-12-31.tsv'), \n",
    "        index=False, sep='\\t')\n",
    "\n",
    "    phenosense_entry_eav.to_csv(\n",
    "        monogram_path.joinpath('phenosense-entry/phenosense-entry-eav-2021-12-31.tsv'), \n",
    "        index=False, sep='\\t')\n",
    "\n",
    "    # Phenosense-Integrase\n",
    "    phenosense_integrase, phenosense_integrase_eav = parse_phenotypic_reports(\n",
    "        path_to_zips=monogram_path.joinpath('phenosense-integrase'), \n",
    "        test_type='phenosense-integrase')\n",
    "    \n",
    "    phenosense_integrase.to_csv(\n",
    "        monogram_path.joinpath('phenosense-integrase/phenosense-integrase-2021-12-31.tsv'), \n",
    "        index=False, sep='\\t')\n",
    "\n",
    "    phenosense_integrase_eav.to_csv(\n",
    "        monogram_path.joinpath('phenosense-integrase/phenosense-integrase-eav-2021-12-31.tsv'), \n",
    "        index=False, sep='\\t')\n",
    "    \n",
    "    # Phenosense-GT\n",
    "    phenosense_gt, phenosense_gt_eav = parse_phenotypic_reports(\n",
    "        path_to_zips=monogram_path.joinpath('phenosense-gt'), \n",
    "        test_type='phenosense-gt')\n",
    "    \n",
    "    phenosense_gt.to_csv(\n",
    "        monogram_path.joinpath('phenosense-gt/phenosense-gt-2021-12-31.tsv'), \n",
    "        index=False, sep='\\t')\n",
    "\n",
    "    phenosense_gt_eav.to_csv(\n",
    "        monogram_path.joinpath('phenosense-gt/phenosense-gt-eav-2021-12-31.tsv'), \n",
    "        index=False, sep='\\t')"
   ]
  },
  {
   "cell_type": "code",
   "execution_count": null,
   "metadata": {},
   "outputs": [],
   "source": [
    "    # Combine\n",
    "    df = pd.concat([geneseq, genosure_mg, genosure_prime, genosure_archive, phenosense_gt])\n",
    "    df.sort_values(['PAT_MRN_ID', 'COLLECTED_DATE'], inplace=True)\n",
    "    df.reset_index(inplace=True, drop=True)\n",
    "\n",
    "    # Write to disk\n",
    "    df.to_csv(monogram_path.joinpath(\n",
    "        'genotypic-tests-through-2021-12-31.tsv'), index=False, sep='\\t')"
   ]
  }
 ],
 "metadata": {
  "kernelspec": {
   "display_name": "hiv-art-resistance-L9BYQhnH",
   "language": "python",
   "name": "python3"
  },
  "language_info": {
   "codemirror_mode": {
    "name": "ipython",
    "version": 3
   },
   "file_extension": ".py",
   "mimetype": "text/x-python",
   "name": "python",
   "nbconvert_exporter": "python",
   "pygments_lexer": "ipython3",
   "version": "3.10.12"
  }
 },
 "nbformat": 4,
 "nbformat_minor": 2
}
